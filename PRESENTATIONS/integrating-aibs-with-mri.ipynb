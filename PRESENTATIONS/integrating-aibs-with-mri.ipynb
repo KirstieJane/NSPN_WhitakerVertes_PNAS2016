{
 "cells": [
  {
   "cell_type": "markdown",
   "metadata": {
    "slideshow": {
     "slide_type": "slide"
    }
   },
   "source": [
    "#Integrating Allen Brain Atlas Data with structural and functional MRI"
   ]
  },
  {
   "cell_type": "markdown",
   "metadata": {
    "slideshow": {
     "slide_type": "slide"
    }
   },
   "source": [
    "## Presented on behalf of Petra and Tim\n",
    "\n",
    "### Petra Vertes ![](http://www.cnn.group.cam.ac.uk/directory/pv226@cam.ac.uk/image_normal) \n",
    "* MRC Research Fellow\n",
    "\n",
    "### Timothy Rittman ![](http://www.neuroscience.cam.ac.uk/uploadedFiles/sm_tr332_phpeiafhB.jpg) \n",
    "* Clinical Fellow\n"
   ]
  },
  {
   "cell_type": "markdown",
   "metadata": {
    "slideshow": {
     "slide_type": "slide"
    }
   },
   "source": [
    "![](https://github.com/KirstieJane/NSPN_WhitakerVertes_PNAS2016/blob/nhw-presentation/PRESENTATIONS/images/whitakervertes_etal_PNAS.PNG?raw=true)\n",
    "http://dx.doi.org/10.1073/pnas.1601745113\n",
    "\n",
    "![](https://github.com/KirstieJane/NSPN_WhitakerVertes_PNAS2016/blob/nhw-presentation/PRESENTATIONS/images/vertes_etal_RoyalSociety.PNG?raw=true)\n",
    "http://dx.doi.org/10.1098/rstb.2015.0362"
   ]
  },
  {
   "cell_type": "markdown",
   "metadata": {
    "slideshow": {
     "slide_type": "slide"
    }
   },
   "source": [
    "## MRI results\n",
    "\n",
    "Showed cortical thinning and increases in intracortical myelination with age\n",
    "![](https://github.com/KirstieJane/NSPN_WhitakerVertes_PNAS2016/blob/nhw-presentation/CT_MT_ANALYSES/COMPLETE/FIGS/COVARS_none/Figure2_LowRes.jpg?raw=true)"
   ]
  },
  {
   "cell_type": "markdown",
   "metadata": {
    "slideshow": {
     "slide_type": "slide"
    }
   },
   "source": [
    "## Wanted to know how these changes related to gene expression\n",
    "\n",
    "#### Important to know that we used a parcellation\n",
    "![](https://github.com/KirstieJane/NSPN_WhitakerVertes_PNAS2016/blob/nhw-presentation/CT_MT_ANALYSES/COMBINED_FIGURES/PARCELLATION/PNGS/Parcellation_308_random_matched_hemis_FourHorBrains.png?raw=true)\n",
    "#### 308 regions within Desikan-Killiany atlas atlas regions, no more than 500mm<sup>2</sup> surface area"
   ]
  },
  {
   "cell_type": "markdown",
   "metadata": {
    "slideshow": {
     "slide_type": "slide"
    }
   },
   "source": [
    "## Downloaded data from 6 brains from the Allen Brain Institute website\n",
    "\n",
    "![](https://github.com/KirstieJane/NSPN_WhitakerVertes_PNAS2016/blob/nhw-presentation/PRESENTATIONS/images/ABI_downloadpage.PNG?raw=true)\n",
    "\n"
   ]
  },
  {
   "cell_type": "markdown",
   "metadata": {
    "slideshow": {
     "slide_type": "slide"
    }
   },
   "source": [
    "### Each brain has 5 files:\n",
    "* **MicroarrayExpression.csv**\n",
    "    * Contains normalized expression values\n",
    "    * row: probes, column: samples\n",
    "* **SampleAnnot.csv**\n",
    "    * Contains location information for the samples\n",
    "    * native MRI voxel coords and MNI\n",
    "    * Rows correspond to columns in MicroarrayExpression file.\n",
    "* Ontology\n",
    "* PACall\n",
    "* Probes"
   ]
  },
  {
   "cell_type": "code",
   "execution_count": 1,
   "metadata": {
    "collapsed": false,
    "slideshow": {
     "slide_type": "slide"
    }
   },
   "outputs": [
    {
     "data": {
      "text/html": [
       "<div>\n",
       "<table border=\"1\" class=\"dataframe\">\n",
       "  <thead>\n",
       "    <tr style=\"text-align: right;\">\n",
       "      <th></th>\n",
       "      <th>0</th>\n",
       "      <th>1</th>\n",
       "      <th>2</th>\n",
       "      <th>3</th>\n",
       "      <th>4</th>\n",
       "      <th>5</th>\n",
       "      <th>6</th>\n",
       "      <th>7</th>\n",
       "      <th>8</th>\n",
       "      <th>9</th>\n",
       "      <th>...</th>\n",
       "      <th>937</th>\n",
       "      <th>938</th>\n",
       "      <th>939</th>\n",
       "      <th>940</th>\n",
       "      <th>941</th>\n",
       "      <th>942</th>\n",
       "      <th>943</th>\n",
       "      <th>944</th>\n",
       "      <th>945</th>\n",
       "      <th>946</th>\n",
       "    </tr>\n",
       "  </thead>\n",
       "  <tbody>\n",
       "    <tr>\n",
       "      <th>0</th>\n",
       "      <td>1058685</td>\n",
       "      <td>3.615792</td>\n",
       "      <td>2.138074</td>\n",
       "      <td>2.480542</td>\n",
       "      <td>2.964972</td>\n",
       "      <td>2.679803</td>\n",
       "      <td>1.856238</td>\n",
       "      <td>2.280435</td>\n",
       "      <td>3.080857</td>\n",
       "      <td>2.628575</td>\n",
       "      <td>...</td>\n",
       "      <td>3.852665</td>\n",
       "      <td>3.849358</td>\n",
       "      <td>3.018556</td>\n",
       "      <td>3.203562</td>\n",
       "      <td>2.050227</td>\n",
       "      <td>3.487880</td>\n",
       "      <td>2.354469</td>\n",
       "      <td>2.586168</td>\n",
       "      <td>3.495279</td>\n",
       "      <td>3.306209</td>\n",
       "    </tr>\n",
       "    <tr>\n",
       "      <th>1</th>\n",
       "      <td>1058684</td>\n",
       "      <td>1.574380</td>\n",
       "      <td>1.687217</td>\n",
       "      <td>1.975735</td>\n",
       "      <td>2.089475</td>\n",
       "      <td>1.912586</td>\n",
       "      <td>1.601138</td>\n",
       "      <td>1.626724</td>\n",
       "      <td>1.855901</td>\n",
       "      <td>1.858343</td>\n",
       "      <td>...</td>\n",
       "      <td>1.698639</td>\n",
       "      <td>2.106493</td>\n",
       "      <td>1.573482</td>\n",
       "      <td>2.028703</td>\n",
       "      <td>2.058318</td>\n",
       "      <td>1.620506</td>\n",
       "      <td>1.802832</td>\n",
       "      <td>1.698847</td>\n",
       "      <td>1.839290</td>\n",
       "      <td>1.703562</td>\n",
       "    </tr>\n",
       "    <tr>\n",
       "      <th>2</th>\n",
       "      <td>1058683</td>\n",
       "      <td>1.596431</td>\n",
       "      <td>1.948371</td>\n",
       "      <td>2.191910</td>\n",
       "      <td>2.224042</td>\n",
       "      <td>2.223798</td>\n",
       "      <td>1.557563</td>\n",
       "      <td>1.940634</td>\n",
       "      <td>2.337132</td>\n",
       "      <td>2.253177</td>\n",
       "      <td>...</td>\n",
       "      <td>1.879796</td>\n",
       "      <td>1.576539</td>\n",
       "      <td>1.835648</td>\n",
       "      <td>1.664253</td>\n",
       "      <td>2.195771</td>\n",
       "      <td>1.832431</td>\n",
       "      <td>1.993473</td>\n",
       "      <td>1.864939</td>\n",
       "      <td>2.073033</td>\n",
       "      <td>1.907132</td>\n",
       "    </tr>\n",
       "    <tr>\n",
       "      <th>3</th>\n",
       "      <td>1058682</td>\n",
       "      <td>4.482883</td>\n",
       "      <td>6.606044</td>\n",
       "      <td>5.261559</td>\n",
       "      <td>4.013277</td>\n",
       "      <td>5.600743</td>\n",
       "      <td>5.624775</td>\n",
       "      <td>4.552105</td>\n",
       "      <td>4.276418</td>\n",
       "      <td>5.675885</td>\n",
       "      <td>...</td>\n",
       "      <td>4.336135</td>\n",
       "      <td>4.904766</td>\n",
       "      <td>4.305006</td>\n",
       "      <td>5.202678</td>\n",
       "      <td>4.121053</td>\n",
       "      <td>4.507000</td>\n",
       "      <td>4.123025</td>\n",
       "      <td>4.020838</td>\n",
       "      <td>4.222393</td>\n",
       "      <td>4.523669</td>\n",
       "    </tr>\n",
       "    <tr>\n",
       "      <th>4</th>\n",
       "      <td>1058681</td>\n",
       "      <td>6.291312</td>\n",
       "      <td>8.149890</td>\n",
       "      <td>7.948218</td>\n",
       "      <td>6.964453</td>\n",
       "      <td>8.682156</td>\n",
       "      <td>7.753634</td>\n",
       "      <td>7.462767</td>\n",
       "      <td>6.998209</td>\n",
       "      <td>7.565414</td>\n",
       "      <td>...</td>\n",
       "      <td>6.999358</td>\n",
       "      <td>6.289043</td>\n",
       "      <td>6.515205</td>\n",
       "      <td>6.893379</td>\n",
       "      <td>6.473620</td>\n",
       "      <td>6.326008</td>\n",
       "      <td>6.264416</td>\n",
       "      <td>5.800701</td>\n",
       "      <td>5.901888</td>\n",
       "      <td>6.491646</td>\n",
       "    </tr>\n",
       "  </tbody>\n",
       "</table>\n",
       "<p>5 rows × 947 columns</p>\n",
       "</div>"
      ],
      "text/plain": [
       "       0         1         2         3         4         5         6    \\\n",
       "0  1058685  3.615792  2.138074  2.480542  2.964972  2.679803  1.856238   \n",
       "1  1058684  1.574380  1.687217  1.975735  2.089475  1.912586  1.601138   \n",
       "2  1058683  1.596431  1.948371  2.191910  2.224042  2.223798  1.557563   \n",
       "3  1058682  4.482883  6.606044  5.261559  4.013277  5.600743  5.624775   \n",
       "4  1058681  6.291312  8.149890  7.948218  6.964453  8.682156  7.753634   \n",
       "\n",
       "        7         8         9      ...          937       938       939  \\\n",
       "0  2.280435  3.080857  2.628575    ...     3.852665  3.849358  3.018556   \n",
       "1  1.626724  1.855901  1.858343    ...     1.698639  2.106493  1.573482   \n",
       "2  1.940634  2.337132  2.253177    ...     1.879796  1.576539  1.835648   \n",
       "3  4.552105  4.276418  5.675885    ...     4.336135  4.904766  4.305006   \n",
       "4  7.462767  6.998209  7.565414    ...     6.999358  6.289043  6.515205   \n",
       "\n",
       "        940       941       942       943       944       945       946  \n",
       "0  3.203562  2.050227  3.487880  2.354469  2.586168  3.495279  3.306209  \n",
       "1  2.028703  2.058318  1.620506  1.802832  1.698847  1.839290  1.703562  \n",
       "2  1.664253  2.195771  1.832431  1.993473  1.864939  2.073033  1.907132  \n",
       "3  5.202678  4.121053  4.507000  4.123025  4.020838  4.222393  4.523669  \n",
       "4  6.893379  6.473620  6.326008  6.264416  5.800701  5.901888  6.491646  \n",
       "\n",
       "[5 rows x 947 columns]"
      ]
     },
     "execution_count": 1,
     "metadata": {},
     "output_type": "execute_result"
    }
   ],
   "source": [
    "import pandas as pd\n",
    "\n",
    "df = pd.read_csv('sample_data/MicroarrayExpression_100lines.csv', header=None)\n",
    "df.head()"
   ]
  },
  {
   "cell_type": "code",
   "execution_count": 2,
   "metadata": {
    "collapsed": false,
    "slideshow": {
     "slide_type": "slide"
    }
   },
   "outputs": [
    {
     "data": {
      "text/html": [
       "<div>\n",
       "<table border=\"1\" class=\"dataframe\">\n",
       "  <thead>\n",
       "    <tr style=\"text-align: right;\">\n",
       "      <th></th>\n",
       "      <th>structure_id</th>\n",
       "      <th>slab_num</th>\n",
       "      <th>well_id</th>\n",
       "      <th>slab_type</th>\n",
       "      <th>structure_acronym</th>\n",
       "      <th>structure_name</th>\n",
       "      <th>polygon_id</th>\n",
       "      <th>mri_voxel_x</th>\n",
       "      <th>mri_voxel_y</th>\n",
       "      <th>mri_voxel_z</th>\n",
       "      <th>mni_x</th>\n",
       "      <th>mni_y</th>\n",
       "      <th>mni_z</th>\n",
       "    </tr>\n",
       "  </thead>\n",
       "  <tbody>\n",
       "    <tr>\n",
       "      <th>0</th>\n",
       "      <td>4077</td>\n",
       "      <td>22</td>\n",
       "      <td>594</td>\n",
       "      <td>CX</td>\n",
       "      <td>PCLa-i</td>\n",
       "      <td>paracentral lobule, anterior part, right, infe...</td>\n",
       "      <td>37470</td>\n",
       "      <td>87</td>\n",
       "      <td>52</td>\n",
       "      <td>116</td>\n",
       "      <td>5.9</td>\n",
       "      <td>-27.7</td>\n",
       "      <td>49.7</td>\n",
       "    </tr>\n",
       "    <tr>\n",
       "      <th>1</th>\n",
       "      <td>4323</td>\n",
       "      <td>11</td>\n",
       "      <td>2985</td>\n",
       "      <td>CX</td>\n",
       "      <td>Cl</td>\n",
       "      <td>claustrum, right</td>\n",
       "      <td>40517</td>\n",
       "      <td>66</td>\n",
       "      <td>92</td>\n",
       "      <td>63</td>\n",
       "      <td>29.2</td>\n",
       "      <td>17.0</td>\n",
       "      <td>-2.9</td>\n",
       "    </tr>\n",
       "    <tr>\n",
       "      <th>2</th>\n",
       "      <td>4323</td>\n",
       "      <td>18</td>\n",
       "      <td>2801</td>\n",
       "      <td>CX</td>\n",
       "      <td>Cl</td>\n",
       "      <td>claustrum, right</td>\n",
       "      <td>41516</td>\n",
       "      <td>66</td>\n",
       "      <td>81</td>\n",
       "      <td>104</td>\n",
       "      <td>28.2</td>\n",
       "      <td>-22.8</td>\n",
       "      <td>16.8</td>\n",
       "    </tr>\n",
       "    <tr>\n",
       "      <th>3</th>\n",
       "      <td>4440</td>\n",
       "      <td>18</td>\n",
       "      <td>2273</td>\n",
       "      <td>CX</td>\n",
       "      <td>LGd</td>\n",
       "      <td>dorsal lateral geniculate nucleus, left</td>\n",
       "      <td>41473</td>\n",
       "      <td>116</td>\n",
       "      <td>94</td>\n",
       "      <td>101</td>\n",
       "      <td>-24.6</td>\n",
       "      <td>-24.6</td>\n",
       "      <td>1.3</td>\n",
       "    </tr>\n",
       "    <tr>\n",
       "      <th>4</th>\n",
       "      <td>4266</td>\n",
       "      <td>17</td>\n",
       "      <td>2785</td>\n",
       "      <td>CX</td>\n",
       "      <td>CA4</td>\n",
       "      <td>CA4 field, right</td>\n",
       "      <td>41142</td>\n",
       "      <td>63</td>\n",
       "      <td>104</td>\n",
       "      <td>106</td>\n",
       "      <td>31.1</td>\n",
       "      <td>-31.3</td>\n",
       "      <td>-7.3</td>\n",
       "    </tr>\n",
       "  </tbody>\n",
       "</table>\n",
       "</div>"
      ],
      "text/plain": [
       "   structure_id  slab_num  well_id slab_type structure_acronym  \\\n",
       "0          4077        22      594        CX            PCLa-i   \n",
       "1          4323        11     2985        CX                Cl   \n",
       "2          4323        18     2801        CX                Cl   \n",
       "3          4440        18     2273        CX               LGd   \n",
       "4          4266        17     2785        CX               CA4   \n",
       "\n",
       "                                      structure_name  polygon_id  mri_voxel_x  \\\n",
       "0  paracentral lobule, anterior part, right, infe...       37470           87   \n",
       "1                                   claustrum, right       40517           66   \n",
       "2                                   claustrum, right       41516           66   \n",
       "3            dorsal lateral geniculate nucleus, left       41473          116   \n",
       "4                                   CA4 field, right       41142           63   \n",
       "\n",
       "   mri_voxel_y  mri_voxel_z  mni_x  mni_y  mni_z  \n",
       "0           52          116    5.9  -27.7   49.7  \n",
       "1           92           63   29.2   17.0   -2.9  \n",
       "2           81          104   28.2  -22.8   16.8  \n",
       "3           94          101  -24.6  -24.6    1.3  \n",
       "4          104          106   31.1  -31.3   -7.3  "
      ]
     },
     "execution_count": 2,
     "metadata": {},
     "output_type": "execute_result"
    }
   ],
   "source": [
    "df = pd.read_csv('sample_data/SampleAnnot.csv')\n",
    "\n",
    "df.head()"
   ]
  },
  {
   "cell_type": "markdown",
   "metadata": {
    "slideshow": {
     "slide_type": "slide"
    }
   },
   "source": [
    "## Match up the MRI regions with the AIBS data\n",
    "\n",
    "Used: https://github.com/rittman/maybrain\n",
    "\n",
    "\n",
    "1. Flip all the data into the left hemisphere for all AIBS participants\n",
    "    * *optional step: remove all samples in SampleAnnot that are not from cortex*\n",
    "2. Find the sample with the closest MNI coordinate across all AIBS participants\n",
    "3. Figure out the structure name for that region\n",
    "4. Find ***all samples within that structure*** and average for all genes\n",
    "\n",
    "#### Output is a data file that's has 308 columns and >20,000 genes"
   ]
  },
  {
   "cell_type": "code",
   "execution_count": 3,
   "metadata": {
    "collapsed": false,
    "slideshow": {
     "slide_type": "slide"
    }
   },
   "outputs": [
    {
     "data": {
      "text/html": [
       "<div>\n",
       "<table border=\"1\" class=\"dataframe\">\n",
       "  <thead>\n",
       "    <tr style=\"text-align: right;\">\n",
       "      <th></th>\n",
       "      <th>Gene</th>\n",
       "      <th>0</th>\n",
       "      <th>1</th>\n",
       "      <th>2</th>\n",
       "      <th>3</th>\n",
       "      <th>4</th>\n",
       "      <th>5</th>\n",
       "      <th>6</th>\n",
       "      <th>7</th>\n",
       "      <th>8</th>\n",
       "      <th>...</th>\n",
       "      <th>298</th>\n",
       "      <th>299</th>\n",
       "      <th>300</th>\n",
       "      <th>301</th>\n",
       "      <th>302</th>\n",
       "      <th>303</th>\n",
       "      <th>304</th>\n",
       "      <th>305</th>\n",
       "      <th>306</th>\n",
       "      <th>307</th>\n",
       "    </tr>\n",
       "  </thead>\n",
       "  <tbody>\n",
       "    <tr>\n",
       "      <th>0</th>\n",
       "      <td>61E3.4</td>\n",
       "      <td>-0.005118</td>\n",
       "      <td>-0.005118</td>\n",
       "      <td>0.062122</td>\n",
       "      <td>-0.467841</td>\n",
       "      <td>-0.230468</td>\n",
       "      <td>-0.230468</td>\n",
       "      <td>-0.467841</td>\n",
       "      <td>0.627615</td>\n",
       "      <td>0.627615</td>\n",
       "      <td>...</td>\n",
       "      <td>-0.005118</td>\n",
       "      <td>-0.083713</td>\n",
       "      <td>-0.083713</td>\n",
       "      <td>-0.679836</td>\n",
       "      <td>-0.465603</td>\n",
       "      <td>0.712125</td>\n",
       "      <td>-0.013261</td>\n",
       "      <td>0.263997</td>\n",
       "      <td>-0.152726</td>\n",
       "      <td>-0.152726</td>\n",
       "    </tr>\n",
       "    <tr>\n",
       "      <th>1</th>\n",
       "      <td>A1BG</td>\n",
       "      <td>0.282118</td>\n",
       "      <td>0.282118</td>\n",
       "      <td>0.031367</td>\n",
       "      <td>0.003455</td>\n",
       "      <td>-0.120910</td>\n",
       "      <td>-0.120910</td>\n",
       "      <td>0.003455</td>\n",
       "      <td>-0.065166</td>\n",
       "      <td>-0.065166</td>\n",
       "      <td>...</td>\n",
       "      <td>0.282118</td>\n",
       "      <td>0.194098</td>\n",
       "      <td>0.194098</td>\n",
       "      <td>0.135712</td>\n",
       "      <td>0.497182</td>\n",
       "      <td>0.017430</td>\n",
       "      <td>0.272689</td>\n",
       "      <td>0.202941</td>\n",
       "      <td>0.355027</td>\n",
       "      <td>0.355027</td>\n",
       "    </tr>\n",
       "    <tr>\n",
       "      <th>2</th>\n",
       "      <td>A1CF</td>\n",
       "      <td>0.350290</td>\n",
       "      <td>0.350290</td>\n",
       "      <td>-0.194133</td>\n",
       "      <td>0.117526</td>\n",
       "      <td>-0.149531</td>\n",
       "      <td>-0.149531</td>\n",
       "      <td>0.117526</td>\n",
       "      <td>0.209940</td>\n",
       "      <td>0.209940</td>\n",
       "      <td>...</td>\n",
       "      <td>0.350290</td>\n",
       "      <td>0.180962</td>\n",
       "      <td>0.180962</td>\n",
       "      <td>-0.934635</td>\n",
       "      <td>-0.212663</td>\n",
       "      <td>0.276695</td>\n",
       "      <td>0.230091</td>\n",
       "      <td>0.015073</td>\n",
       "      <td>-0.162013</td>\n",
       "      <td>-0.162013</td>\n",
       "    </tr>\n",
       "    <tr>\n",
       "      <th>3</th>\n",
       "      <td>A26C1B</td>\n",
       "      <td>-0.328495</td>\n",
       "      <td>-0.328495</td>\n",
       "      <td>-0.137907</td>\n",
       "      <td>-0.233823</td>\n",
       "      <td>0.124165</td>\n",
       "      <td>0.124165</td>\n",
       "      <td>-0.233823</td>\n",
       "      <td>1.115994</td>\n",
       "      <td>1.115994</td>\n",
       "      <td>...</td>\n",
       "      <td>-0.328495</td>\n",
       "      <td>-0.318345</td>\n",
       "      <td>-0.318345</td>\n",
       "      <td>0.577353</td>\n",
       "      <td>-1.677182</td>\n",
       "      <td>0.449524</td>\n",
       "      <td>-0.388438</td>\n",
       "      <td>-0.466139</td>\n",
       "      <td>-0.622249</td>\n",
       "      <td>-0.622249</td>\n",
       "    </tr>\n",
       "    <tr>\n",
       "      <th>4</th>\n",
       "      <td>A2BP1</td>\n",
       "      <td>0.141661</td>\n",
       "      <td>0.141661</td>\n",
       "      <td>-0.944449</td>\n",
       "      <td>-0.327485</td>\n",
       "      <td>0.001236</td>\n",
       "      <td>0.001236</td>\n",
       "      <td>-0.327485</td>\n",
       "      <td>0.872317</td>\n",
       "      <td>0.872317</td>\n",
       "      <td>...</td>\n",
       "      <td>0.141661</td>\n",
       "      <td>0.350908</td>\n",
       "      <td>0.350908</td>\n",
       "      <td>0.454547</td>\n",
       "      <td>-0.828417</td>\n",
       "      <td>0.404121</td>\n",
       "      <td>-0.392952</td>\n",
       "      <td>-0.511171</td>\n",
       "      <td>-0.578898</td>\n",
       "      <td>-0.578898</td>\n",
       "    </tr>\n",
       "  </tbody>\n",
       "</table>\n",
       "<p>5 rows × 307 columns</p>\n",
       "</div>"
      ],
      "text/plain": [
       "     Gene         0         1         2         3         4         5  \\\n",
       "0  61E3.4 -0.005118 -0.005118  0.062122 -0.467841 -0.230468 -0.230468   \n",
       "1    A1BG  0.282118  0.282118  0.031367  0.003455 -0.120910 -0.120910   \n",
       "2    A1CF  0.350290  0.350290 -0.194133  0.117526 -0.149531 -0.149531   \n",
       "3  A26C1B -0.328495 -0.328495 -0.137907 -0.233823  0.124165  0.124165   \n",
       "4   A2BP1  0.141661  0.141661 -0.944449 -0.327485  0.001236  0.001236   \n",
       "\n",
       "          6         7         8    ...          298       299       300  \\\n",
       "0 -0.467841  0.627615  0.627615    ...    -0.005118 -0.083713 -0.083713   \n",
       "1  0.003455 -0.065166 -0.065166    ...     0.282118  0.194098  0.194098   \n",
       "2  0.117526  0.209940  0.209940    ...     0.350290  0.180962  0.180962   \n",
       "3 -0.233823  1.115994  1.115994    ...    -0.328495 -0.318345 -0.318345   \n",
       "4 -0.327485  0.872317  0.872317    ...     0.141661  0.350908  0.350908   \n",
       "\n",
       "        301       302       303       304       305       306       307  \n",
       "0 -0.679836 -0.465603  0.712125 -0.013261  0.263997 -0.152726 -0.152726  \n",
       "1  0.135712  0.497182  0.017430  0.272689  0.202941  0.355027  0.355027  \n",
       "2 -0.934635 -0.212663  0.276695  0.230091  0.015073 -0.162013 -0.162013  \n",
       "3  0.577353 -1.677182  0.449524 -0.388438 -0.466139 -0.622249 -0.622249  \n",
       "4  0.454547 -0.828417  0.404121 -0.392952 -0.511171 -0.578898 -0.578898  \n",
       "\n",
       "[5 rows x 307 columns]"
      ]
     },
     "execution_count": 3,
     "metadata": {},
     "output_type": "execute_result"
    }
   ],
   "source": [
    "df = pd.read_csv('../DATA/PLS_gene_predictor_vars.csv')\n",
    "df.head()"
   ]
  },
  {
   "cell_type": "markdown",
   "metadata": {
    "slideshow": {
     "slide_type": "slide"
    }
   },
   "source": [
    "## Woah that's a lot of data\n",
    "\n",
    "### Run Partial Least Squares regression\n",
    "\n",
    "#### PLS is like principal components analyses, except you're looking for combinations of ***predictor variables*** (genes) that explain variance in the ***response variables***.\n",
    "\n",
    "* Whitaker, Vertes et al: response variables were intercept and slope with age for cortical thickness and magnetisation transfer\n",
    "    * 4 columns, 308 rows\n",
    "* Vertes et al: response variables were intra-modular degree, inter-modular degree and mean connection distance of each node from functional network analysis\n",
    "    * 3 columns, 308 rows\n",
    "    \n",
    "* Two outputs of PLS:\n",
    "    * a weighting for each gene for each component\n",
    "    * a score for each region"
   ]
  },
  {
   "cell_type": "markdown",
   "metadata": {
    "slideshow": {
     "slide_type": "slide"
    }
   },
   "source": [
    "## Gene Ontology analyses\n",
    "\n",
    "* Gorillia and Revigo\n",
    "    * http://cbl-gorilla.cs.technion.ac.il/\n",
    "    * http://revigo.irb.hr/\n",
    "\n",
    "![](https://github.com/KirstieJane/NSPN_WhitakerVertes_PNAS2016/blob/nhw-presentation/PRESENTATIONS/images/GOrilla_homepage.PNG?raw=true)\n",
    "![](https://github.com/KirstieJane/NSPN_WhitakerVertes_PNAS2016/blob/nhw-presentation/PRESENTATIONS/images/Revigo_homepage.PNG?raw=true)"
   ]
  },
  {
   "cell_type": "markdown",
   "metadata": {
    "slideshow": {
     "slide_type": "slide"
    }
   },
   "source": [
    "## Results - structure\n",
    "\n",
    "![](https://github.com/KirstieJane/NSPN_WhitakerVertes_PNAS2016/blob/nhw-presentation/CT_MT_ANALYSES/COMPLETE/FIGS/COVARS_none/Figure3_LowRes.jpg?raw=true)"
   ]
  },
  {
   "cell_type": "markdown",
   "metadata": {
    "slideshow": {
     "slide_type": "slide"
    }
   },
   "source": [
    "## Results - function\n",
    "\n",
    "![](https://github.com/KirstieJane/NSPN_WhitakerVertes_PNAS2016/blob/nhw-presentation/PRESENTATIONS/images/vertes_etal_RoyalSociety_Figure3_cropped.jpg?raw=true)\n",
    "![](https://github.com/KirstieJane/NSPN_WhitakerVertes_PNAS2016/blob/nhw-presentation/PRESENTATIONS/images/vertes_etal_RoyalSociety_Figure4.jpg?raw=true)\n"
   ]
  },
  {
   "cell_type": "markdown",
   "metadata": {
    "slideshow": {
     "slide_type": "slide"
    }
   },
   "source": [
    "## All the code and is available at GitHub:\n",
    "\n",
    "https://github.com/KirstieJane/NSPN_WhitakerVertes_PNAS2016/"
   ]
  },
  {
   "cell_type": "markdown",
   "metadata": {
    "collapsed": true,
    "slideshow": {
     "slide_type": "slide"
    }
   },
   "source": [
    "# Thank you!"
   ]
  }
 ],
 "metadata": {
  "celltoolbar": "Slideshow",
  "kernelspec": {
   "display_name": "Python 2",
   "language": "python",
   "name": "python2"
  },
  "language_info": {
   "codemirror_mode": {
    "name": "ipython",
    "version": 2
   },
   "file_extension": ".py",
   "mimetype": "text/x-python",
   "name": "python",
   "nbconvert_exporter": "python",
   "pygments_lexer": "ipython2",
   "version": "2.7.10"
  }
 },
 "nbformat": 4,
 "nbformat_minor": 0
}
